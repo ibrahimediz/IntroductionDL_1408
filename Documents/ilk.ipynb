{
 "cells": [
  {
   "cell_type": "markdown",
   "metadata": {},
   "source": [
    "# Python Genel Tanıtım\n",
    "* Variables\n",
    "* Control Structures\n",
    "* Functions\n",
    "* Modul and Packages"
   ]
  },
  {
   "cell_type": "markdown",
   "metadata": {},
   "source": [
    "## Variables"
   ]
  },
  {
   "cell_type": "code",
   "execution_count": 1,
   "metadata": {},
   "outputs": [
    {
     "data": {
      "text/plain": [
       "5"
      ]
     },
     "execution_count": 1,
     "metadata": {},
     "output_type": "execute_result"
    }
   ],
   "source": [
    "var1 = 2 # int\n",
    "var2 = 2.2 # float\n",
    "var3 = 2.3 + 4j # complex\n",
    "########### \n",
    "var4 = \"Digital Akademi\" # str\n",
    "var5 = [1,2,3,4,] # list\n",
    "var6 = (1,2,3,4) # tuple\n",
    "# var4[0]\n",
    "#       0 1 2 3 \n",
    "###############\n",
    "var7 = {\"Adı\":\"Digital\"} # dict\n",
    "var7[\"Adı\"]\n"
   ]
  }
 ],
 "metadata": {
  "kernelspec": {
   "display_name": "Python 3",
   "language": "python",
   "name": "python3"
  },
  "language_info": {
   "codemirror_mode": {
    "name": "ipython",
    "version": 3
   },
   "file_extension": ".py",
   "mimetype": "text/x-python",
   "name": "python",
   "nbconvert_exporter": "python",
   "pygments_lexer": "ipython3",
   "version": "3.11.1"
  },
  "orig_nbformat": 4
 },
 "nbformat": 4,
 "nbformat_minor": 2
}
