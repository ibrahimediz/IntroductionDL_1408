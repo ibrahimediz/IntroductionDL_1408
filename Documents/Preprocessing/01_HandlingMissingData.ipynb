{
 "cells": [
  {
   "cell_type": "markdown",
   "metadata": {},
   "source": [
    "# Handling Missing Data"
   ]
  },
  {
   "cell_type": "code",
   "execution_count": 111,
   "metadata": {},
   "outputs": [],
   "source": [
    "import pandas as pd"
   ]
  },
  {
   "cell_type": "code",
   "execution_count": 112,
   "metadata": {},
   "outputs": [],
   "source": [
    "adres = r\"E:\\Projelerim\\IntroductionDL_1408\\Documents\\Preprocessing\\data\\sample.csv\"\n",
    "df = pd.read_csv(adres)"
   ]
  },
  {
   "cell_type": "code",
   "execution_count": 113,
   "metadata": {},
   "outputs": [
    {
     "data": {
      "text/plain": [
       "Ulke        8\n",
       "Cinsiyet    7\n",
       "Gelir       4\n",
       "Yas         5\n",
       "MemTip      0\n",
       "dtype: int64"
      ]
     },
     "execution_count": 113,
     "metadata": {},
     "output_type": "execute_result"
    }
   ],
   "source": [
    "df.isna().sum()"
   ]
  },
  {
   "cell_type": "code",
   "execution_count": 114,
   "metadata": {},
   "outputs": [
    {
     "data": {
      "text/plain": [
       "Ulke        8\n",
       "Cinsiyet    7\n",
       "Gelir       4\n",
       "Yas         5\n",
       "MemTip      0\n",
       "dtype: int64"
      ]
     },
     "execution_count": 114,
     "metadata": {},
     "output_type": "execute_result"
    }
   ],
   "source": [
    "df.isnull().sum()"
   ]
  },
  {
   "cell_type": "code",
   "execution_count": 115,
   "metadata": {},
   "outputs": [
    {
     "name": "stdout",
     "output_type": "stream",
     "text": [
      "<class 'pandas.core.frame.DataFrame'>\n",
      "RangeIndex: 24 entries, 0 to 23\n",
      "Data columns (total 5 columns):\n",
      " #   Column    Non-Null Count  Dtype  \n",
      "---  ------    --------------  -----  \n",
      " 0   Ulke      16 non-null     object \n",
      " 1   Cinsiyet  17 non-null     object \n",
      " 2   Gelir     20 non-null     float64\n",
      " 3   Yas       19 non-null     float64\n",
      " 4   MemTip    24 non-null     int64  \n",
      "dtypes: float64(2), int64(1), object(2)\n",
      "memory usage: 1.1+ KB\n"
     ]
    }
   ],
   "source": [
    "df.info()"
   ]
  },
  {
   "cell_type": "markdown",
   "metadata": {},
   "source": [
    "## Boş Verilerin Düzeltilmesi İçin\n",
    "1. Verilerin Silinmesi\n",
    "2. Impute çalışması"
   ]
  },
  {
   "cell_type": "markdown",
   "metadata": {},
   "source": [
    "### 1. Verilerin Silinmesi\n",
    "* satır silme\n",
    "* sütun silme"
   ]
  },
  {
   "cell_type": "code",
   "execution_count": 116,
   "metadata": {},
   "outputs": [],
   "source": [
    "adres = r\"E:\\Projelerim\\IntroductionDL_1408\\Documents\\Preprocessing\\data\\sample.csv\"\n",
    "df1 = pd.read_csv(adres)"
   ]
  },
  {
   "cell_type": "code",
   "execution_count": 117,
   "metadata": {},
   "outputs": [],
   "source": [
    "# df1.dropna(axis=1,inplace=True)\n",
    "dfTemiz1 = df1.dropna(axis=1) # 1 sütun \"columns\" 0 satır \"rows\""
   ]
  },
  {
   "cell_type": "code",
   "execution_count": 118,
   "metadata": {},
   "outputs": [
    {
     "data": {
      "text/html": [
       "<div>\n",
       "<style scoped>\n",
       "    .dataframe tbody tr th:only-of-type {\n",
       "        vertical-align: middle;\n",
       "    }\n",
       "\n",
       "    .dataframe tbody tr th {\n",
       "        vertical-align: top;\n",
       "    }\n",
       "\n",
       "    .dataframe thead th {\n",
       "        text-align: right;\n",
       "    }\n",
       "</style>\n",
       "<table border=\"1\" class=\"dataframe\">\n",
       "  <thead>\n",
       "    <tr style=\"text-align: right;\">\n",
       "      <th></th>\n",
       "      <th>MemTip</th>\n",
       "    </tr>\n",
       "  </thead>\n",
       "  <tbody>\n",
       "    <tr>\n",
       "      <th>0</th>\n",
       "      <td>1</td>\n",
       "    </tr>\n",
       "    <tr>\n",
       "      <th>1</th>\n",
       "      <td>2</td>\n",
       "    </tr>\n",
       "    <tr>\n",
       "      <th>2</th>\n",
       "      <td>3</td>\n",
       "    </tr>\n",
       "    <tr>\n",
       "      <th>3</th>\n",
       "      <td>1</td>\n",
       "    </tr>\n",
       "    <tr>\n",
       "      <th>4</th>\n",
       "      <td>2</td>\n",
       "    </tr>\n",
       "    <tr>\n",
       "      <th>5</th>\n",
       "      <td>3</td>\n",
       "    </tr>\n",
       "    <tr>\n",
       "      <th>6</th>\n",
       "      <td>1</td>\n",
       "    </tr>\n",
       "    <tr>\n",
       "      <th>7</th>\n",
       "      <td>2</td>\n",
       "    </tr>\n",
       "    <tr>\n",
       "      <th>8</th>\n",
       "      <td>3</td>\n",
       "    </tr>\n",
       "    <tr>\n",
       "      <th>9</th>\n",
       "      <td>1</td>\n",
       "    </tr>\n",
       "    <tr>\n",
       "      <th>10</th>\n",
       "      <td>2</td>\n",
       "    </tr>\n",
       "    <tr>\n",
       "      <th>11</th>\n",
       "      <td>3</td>\n",
       "    </tr>\n",
       "    <tr>\n",
       "      <th>12</th>\n",
       "      <td>1</td>\n",
       "    </tr>\n",
       "    <tr>\n",
       "      <th>13</th>\n",
       "      <td>1</td>\n",
       "    </tr>\n",
       "    <tr>\n",
       "      <th>14</th>\n",
       "      <td>1</td>\n",
       "    </tr>\n",
       "    <tr>\n",
       "      <th>15</th>\n",
       "      <td>1</td>\n",
       "    </tr>\n",
       "    <tr>\n",
       "      <th>16</th>\n",
       "      <td>3</td>\n",
       "    </tr>\n",
       "    <tr>\n",
       "      <th>17</th>\n",
       "      <td>1</td>\n",
       "    </tr>\n",
       "    <tr>\n",
       "      <th>18</th>\n",
       "      <td>2</td>\n",
       "    </tr>\n",
       "    <tr>\n",
       "      <th>19</th>\n",
       "      <td>3</td>\n",
       "    </tr>\n",
       "    <tr>\n",
       "      <th>20</th>\n",
       "      <td>1</td>\n",
       "    </tr>\n",
       "    <tr>\n",
       "      <th>21</th>\n",
       "      <td>1</td>\n",
       "    </tr>\n",
       "    <tr>\n",
       "      <th>22</th>\n",
       "      <td>1</td>\n",
       "    </tr>\n",
       "    <tr>\n",
       "      <th>23</th>\n",
       "      <td>1</td>\n",
       "    </tr>\n",
       "  </tbody>\n",
       "</table>\n",
       "</div>"
      ],
      "text/plain": [
       "    MemTip\n",
       "0        1\n",
       "1        2\n",
       "2        3\n",
       "3        1\n",
       "4        2\n",
       "5        3\n",
       "6        1\n",
       "7        2\n",
       "8        3\n",
       "9        1\n",
       "10       2\n",
       "11       3\n",
       "12       1\n",
       "13       1\n",
       "14       1\n",
       "15       1\n",
       "16       3\n",
       "17       1\n",
       "18       2\n",
       "19       3\n",
       "20       1\n",
       "21       1\n",
       "22       1\n",
       "23       1"
      ]
     },
     "execution_count": 118,
     "metadata": {},
     "output_type": "execute_result"
    }
   ],
   "source": [
    "dfTemiz1"
   ]
  },
  {
   "cell_type": "code",
   "execution_count": 119,
   "metadata": {},
   "outputs": [],
   "source": [
    "adres = r\"E:\\Projelerim\\IntroductionDL_1408\\Documents\\Preprocessing\\data\\sample.csv\"\n",
    "df2 = pd.read_csv(adres)"
   ]
  },
  {
   "cell_type": "code",
   "execution_count": 120,
   "metadata": {},
   "outputs": [
    {
     "data": {
      "text/plain": [
       "Ulke        8\n",
       "Cinsiyet    7\n",
       "Gelir       4\n",
       "Yas         5\n",
       "MemTip      0\n",
       "dtype: int64"
      ]
     },
     "execution_count": 120,
     "metadata": {},
     "output_type": "execute_result"
    }
   ],
   "source": [
    "df2.isna().sum()"
   ]
  },
  {
   "cell_type": "code",
   "execution_count": 121,
   "metadata": {},
   "outputs": [
    {
     "data": {
      "text/plain": [
       "(24, 5)"
      ]
     },
     "execution_count": 121,
     "metadata": {},
     "output_type": "execute_result"
    }
   ],
   "source": [
    "df2.shape"
   ]
  },
  {
   "cell_type": "code",
   "execution_count": 122,
   "metadata": {},
   "outputs": [],
   "source": [
    "dfTemiz2 = df1.dropna(axis=0) # 1 sütun \"columns\" 0 satır \"rows\""
   ]
  },
  {
   "cell_type": "code",
   "execution_count": 123,
   "metadata": {},
   "outputs": [
    {
     "data": {
      "text/plain": [
       "Ulke        0\n",
       "Cinsiyet    0\n",
       "Gelir       0\n",
       "Yas         0\n",
       "MemTip      0\n",
       "dtype: int64"
      ]
     },
     "execution_count": 123,
     "metadata": {},
     "output_type": "execute_result"
    }
   ],
   "source": [
    "dfTemiz2.isna().sum()"
   ]
  },
  {
   "cell_type": "code",
   "execution_count": 124,
   "metadata": {},
   "outputs": [
    {
     "data": {
      "text/plain": [
       "(6, 5)"
      ]
     },
     "execution_count": 124,
     "metadata": {},
     "output_type": "execute_result"
    }
   ],
   "source": [
    "dfTemiz2.shape"
   ]
  },
  {
   "cell_type": "markdown",
   "metadata": {},
   "source": [
    "### 2. Impute İşlemi"
   ]
  },
  {
   "cell_type": "markdown",
   "metadata": {},
   "source": [
    "* mean\n",
    "* median\n",
    "* mode"
   ]
  },
  {
   "cell_type": "code",
   "execution_count": 125,
   "metadata": {},
   "outputs": [
    {
     "data": {
      "text/plain": [
       "2.533333333333333"
      ]
     },
     "execution_count": 125,
     "metadata": {},
     "output_type": "execute_result"
    }
   ],
   "source": [
    "liste = [1,1,2,2,2,1,1,1,2,2,1,1,3,3,3,3,1,1,2,2,3,3,3,4,4,4,5,5,5,5,]\n",
    "seri1 = pd.Series(liste)\n",
    "seri1.mean() # ortalama"
   ]
  },
  {
   "cell_type": "code",
   "execution_count": 126,
   "metadata": {},
   "outputs": [
    {
     "data": {
      "text/plain": [
       "2.5"
      ]
     },
     "execution_count": 126,
     "metadata": {},
     "output_type": "execute_result"
    }
   ],
   "source": [
    "liste = [1,1,2,3,3,2,5,5,]\n",
    "seri1 = pd.Series(liste)\n",
    "seri1.median()"
   ]
  },
  {
   "cell_type": "code",
   "execution_count": 127,
   "metadata": {},
   "outputs": [
    {
     "data": {
      "text/plain": [
       "3"
      ]
     },
     "execution_count": 127,
     "metadata": {},
     "output_type": "execute_result"
    }
   ],
   "source": [
    "liste = [1,1,2,3,3,2,5,5,5,3]\n",
    "seri1 = pd.Series(liste)\n",
    "seri1.mode()[0]"
   ]
  },
  {
   "cell_type": "code",
   "execution_count": 128,
   "metadata": {},
   "outputs": [
    {
     "data": {
      "text/plain": [
       "0     33.947368\n",
       "1     32.000000\n",
       "2     33.947368\n",
       "3     45.000000\n",
       "4     23.000000\n",
       "5     12.000000\n",
       "6     45.000000\n",
       "7     33.947368\n",
       "8     12.000000\n",
       "9     45.000000\n",
       "10    46.000000\n",
       "11    33.947368\n",
       "12    32.000000\n",
       "13    32.000000\n",
       "14    32.000000\n",
       "15    45.000000\n",
       "16    12.000000\n",
       "17    45.000000\n",
       "18    46.000000\n",
       "19    33.947368\n",
       "20    32.000000\n",
       "21    32.000000\n",
       "22    32.000000\n",
       "23    45.000000\n",
       "Name: Yas, dtype: float64"
      ]
     },
     "execution_count": 128,
     "metadata": {},
     "output_type": "execute_result"
    }
   ],
   "source": [
    "adres = r\"E:\\Projelerim\\IntroductionDL_1408\\Documents\\Preprocessing\\data\\sample.csv\"\n",
    "df3 = pd.read_csv(adres)\n",
    "df3[\"Yas\"].fillna(df3[\"Yas\"].mean())"
   ]
  },
  {
   "cell_type": "code",
   "execution_count": 129,
   "metadata": {},
   "outputs": [
    {
     "data": {
      "text/plain": [
       "0      NaN\n",
       "1     32.0\n",
       "2      NaN\n",
       "3     45.0\n",
       "4     23.0\n",
       "5     12.0\n",
       "6     45.0\n",
       "7      NaN\n",
       "8     12.0\n",
       "9     45.0\n",
       "10    46.0\n",
       "11     NaN\n",
       "12    32.0\n",
       "13    32.0\n",
       "14    32.0\n",
       "15    45.0\n",
       "16    12.0\n",
       "17    45.0\n",
       "18    46.0\n",
       "19     NaN\n",
       "20    32.0\n",
       "21    32.0\n",
       "22    32.0\n",
       "23    45.0\n",
       "Name: Yas, dtype: float64"
      ]
     },
     "execution_count": 129,
     "metadata": {},
     "output_type": "execute_result"
    }
   ],
   "source": [
    "df[\"Yas\"]"
   ]
  },
  {
   "cell_type": "code",
   "execution_count": 130,
   "metadata": {},
   "outputs": [
    {
     "data": {
      "text/plain": [
       "0     32.0\n",
       "1     32.0\n",
       "2     32.0\n",
       "3     45.0\n",
       "4     23.0\n",
       "5     12.0\n",
       "6     45.0\n",
       "7     32.0\n",
       "8     12.0\n",
       "9     45.0\n",
       "10    46.0\n",
       "11    32.0\n",
       "12    32.0\n",
       "13    32.0\n",
       "14    32.0\n",
       "15    45.0\n",
       "16    12.0\n",
       "17    45.0\n",
       "18    46.0\n",
       "19    32.0\n",
       "20    32.0\n",
       "21    32.0\n",
       "22    32.0\n",
       "23    45.0\n",
       "Name: Yas, dtype: float64"
      ]
     },
     "execution_count": 130,
     "metadata": {},
     "output_type": "execute_result"
    }
   ],
   "source": [
    "df3[\"Yas\"].fillna(df3[\"Yas\"].median())"
   ]
  },
  {
   "cell_type": "code",
   "execution_count": 131,
   "metadata": {},
   "outputs": [],
   "source": [
    "df3[\"Yas\"] = df3[\"Yas\"].fillna(df3[\"Yas\"].mode()[0])"
   ]
  },
  {
   "cell_type": "code",
   "execution_count": 132,
   "metadata": {},
   "outputs": [
    {
     "data": {
      "text/plain": [
       "Ulke        8\n",
       "Cinsiyet    7\n",
       "Gelir       4\n",
       "Yas         0\n",
       "MemTip      0\n",
       "dtype: int64"
      ]
     },
     "execution_count": 132,
     "metadata": {},
     "output_type": "execute_result"
    }
   ],
   "source": [
    "df3.isna().sum()"
   ]
  },
  {
   "cell_type": "code",
   "execution_count": 133,
   "metadata": {},
   "outputs": [
    {
     "data": {
      "text/plain": [
       "Ulke        8\n",
       "Cinsiyet    7\n",
       "Gelir       4\n",
       "Yas         5\n",
       "MemTip      0\n",
       "dtype: int64"
      ]
     },
     "execution_count": 133,
     "metadata": {},
     "output_type": "execute_result"
    }
   ],
   "source": [
    "df.isna().sum()"
   ]
  },
  {
   "cell_type": "code",
   "execution_count": 134,
   "metadata": {},
   "outputs": [
    {
     "data": {
      "text/html": [
       "<div>\n",
       "<style scoped>\n",
       "    .dataframe tbody tr th:only-of-type {\n",
       "        vertical-align: middle;\n",
       "    }\n",
       "\n",
       "    .dataframe tbody tr th {\n",
       "        vertical-align: top;\n",
       "    }\n",
       "\n",
       "    .dataframe thead th {\n",
       "        text-align: right;\n",
       "    }\n",
       "</style>\n",
       "<table border=\"1\" class=\"dataframe\">\n",
       "  <thead>\n",
       "    <tr style=\"text-align: right;\">\n",
       "      <th></th>\n",
       "      <th>Ulke</th>\n",
       "      <th>Cinsiyet</th>\n",
       "      <th>Gelir</th>\n",
       "      <th>Yas</th>\n",
       "      <th>MemTip</th>\n",
       "    </tr>\n",
       "  </thead>\n",
       "  <tbody>\n",
       "    <tr>\n",
       "      <th>0</th>\n",
       "      <td>NaN</td>\n",
       "      <td>Kadın</td>\n",
       "      <td>20000.0</td>\n",
       "      <td>NaN</td>\n",
       "      <td>1</td>\n",
       "    </tr>\n",
       "    <tr>\n",
       "      <th>1</th>\n",
       "      <td>NaN</td>\n",
       "      <td>Erkek</td>\n",
       "      <td>15000.0</td>\n",
       "      <td>32.0</td>\n",
       "      <td>2</td>\n",
       "    </tr>\n",
       "    <tr>\n",
       "      <th>2</th>\n",
       "      <td>İngiltere</td>\n",
       "      <td>NaN</td>\n",
       "      <td>23000.0</td>\n",
       "      <td>NaN</td>\n",
       "      <td>3</td>\n",
       "    </tr>\n",
       "    <tr>\n",
       "      <th>3</th>\n",
       "      <td>Turkiye</td>\n",
       "      <td>Kadın</td>\n",
       "      <td>20000.0</td>\n",
       "      <td>45.0</td>\n",
       "      <td>1</td>\n",
       "    </tr>\n",
       "    <tr>\n",
       "      <th>4</th>\n",
       "      <td>Fransa</td>\n",
       "      <td>Erkek</td>\n",
       "      <td>15000.0</td>\n",
       "      <td>23.0</td>\n",
       "      <td>2</td>\n",
       "    </tr>\n",
       "    <tr>\n",
       "      <th>5</th>\n",
       "      <td>NaN</td>\n",
       "      <td>NaN</td>\n",
       "      <td>23000.0</td>\n",
       "      <td>12.0</td>\n",
       "      <td>3</td>\n",
       "    </tr>\n",
       "    <tr>\n",
       "      <th>6</th>\n",
       "      <td>Almanya</td>\n",
       "      <td>Kadın</td>\n",
       "      <td>20000.0</td>\n",
       "      <td>45.0</td>\n",
       "      <td>1</td>\n",
       "    </tr>\n",
       "    <tr>\n",
       "      <th>7</th>\n",
       "      <td>Turkiye</td>\n",
       "      <td>Erkek</td>\n",
       "      <td>18000.0</td>\n",
       "      <td>NaN</td>\n",
       "      <td>2</td>\n",
       "    </tr>\n",
       "    <tr>\n",
       "      <th>8</th>\n",
       "      <td>İngiltere</td>\n",
       "      <td>NaN</td>\n",
       "      <td>23000.0</td>\n",
       "      <td>12.0</td>\n",
       "      <td>3</td>\n",
       "    </tr>\n",
       "    <tr>\n",
       "      <th>9</th>\n",
       "      <td>Almanya</td>\n",
       "      <td>Kadın</td>\n",
       "      <td>NaN</td>\n",
       "      <td>45.0</td>\n",
       "      <td>1</td>\n",
       "    </tr>\n",
       "    <tr>\n",
       "      <th>10</th>\n",
       "      <td>Avusturya</td>\n",
       "      <td>Kadın</td>\n",
       "      <td>15000.0</td>\n",
       "      <td>46.0</td>\n",
       "      <td>2</td>\n",
       "    </tr>\n",
       "    <tr>\n",
       "      <th>11</th>\n",
       "      <td>İngiltere</td>\n",
       "      <td>NaN</td>\n",
       "      <td>23000.0</td>\n",
       "      <td>NaN</td>\n",
       "      <td>3</td>\n",
       "    </tr>\n",
       "    <tr>\n",
       "      <th>12</th>\n",
       "      <td>İspanya</td>\n",
       "      <td>Erkek</td>\n",
       "      <td>22000.0</td>\n",
       "      <td>32.0</td>\n",
       "      <td>1</td>\n",
       "    </tr>\n",
       "    <tr>\n",
       "      <th>13</th>\n",
       "      <td>NaN</td>\n",
       "      <td>Erkek</td>\n",
       "      <td>22000.0</td>\n",
       "      <td>32.0</td>\n",
       "      <td>1</td>\n",
       "    </tr>\n",
       "    <tr>\n",
       "      <th>14</th>\n",
       "      <td>İspanya</td>\n",
       "      <td>Erkek</td>\n",
       "      <td>22000.0</td>\n",
       "      <td>32.0</td>\n",
       "      <td>1</td>\n",
       "    </tr>\n",
       "    <tr>\n",
       "      <th>15</th>\n",
       "      <td>NaN</td>\n",
       "      <td>Erkek</td>\n",
       "      <td>22000.0</td>\n",
       "      <td>45.0</td>\n",
       "      <td>1</td>\n",
       "    </tr>\n",
       "    <tr>\n",
       "      <th>16</th>\n",
       "      <td>İngiltere</td>\n",
       "      <td>NaN</td>\n",
       "      <td>23000.0</td>\n",
       "      <td>12.0</td>\n",
       "      <td>3</td>\n",
       "    </tr>\n",
       "    <tr>\n",
       "      <th>17</th>\n",
       "      <td>Almanya</td>\n",
       "      <td>Kadın</td>\n",
       "      <td>NaN</td>\n",
       "      <td>45.0</td>\n",
       "      <td>1</td>\n",
       "    </tr>\n",
       "    <tr>\n",
       "      <th>18</th>\n",
       "      <td>NaN</td>\n",
       "      <td>Kadın</td>\n",
       "      <td>15000.0</td>\n",
       "      <td>46.0</td>\n",
       "      <td>2</td>\n",
       "    </tr>\n",
       "    <tr>\n",
       "      <th>19</th>\n",
       "      <td>İngiltere</td>\n",
       "      <td>NaN</td>\n",
       "      <td>NaN</td>\n",
       "      <td>NaN</td>\n",
       "      <td>3</td>\n",
       "    </tr>\n",
       "    <tr>\n",
       "      <th>20</th>\n",
       "      <td>İspanya</td>\n",
       "      <td>Erkek</td>\n",
       "      <td>NaN</td>\n",
       "      <td>32.0</td>\n",
       "      <td>1</td>\n",
       "    </tr>\n",
       "    <tr>\n",
       "      <th>21</th>\n",
       "      <td>NaN</td>\n",
       "      <td>Erkek</td>\n",
       "      <td>22000.0</td>\n",
       "      <td>32.0</td>\n",
       "      <td>1</td>\n",
       "    </tr>\n",
       "    <tr>\n",
       "      <th>22</th>\n",
       "      <td>İspanya</td>\n",
       "      <td>NaN</td>\n",
       "      <td>22000.0</td>\n",
       "      <td>32.0</td>\n",
       "      <td>1</td>\n",
       "    </tr>\n",
       "    <tr>\n",
       "      <th>23</th>\n",
       "      <td>NaN</td>\n",
       "      <td>Erkek</td>\n",
       "      <td>22000.0</td>\n",
       "      <td>45.0</td>\n",
       "      <td>1</td>\n",
       "    </tr>\n",
       "  </tbody>\n",
       "</table>\n",
       "</div>"
      ],
      "text/plain": [
       "         Ulke Cinsiyet    Gelir   Yas  MemTip\n",
       "0         NaN    Kadın  20000.0   NaN       1\n",
       "1         NaN    Erkek  15000.0  32.0       2\n",
       "2   İngiltere      NaN  23000.0   NaN       3\n",
       "3     Turkiye    Kadın  20000.0  45.0       1\n",
       "4      Fransa    Erkek  15000.0  23.0       2\n",
       "5         NaN      NaN  23000.0  12.0       3\n",
       "6     Almanya    Kadın  20000.0  45.0       1\n",
       "7     Turkiye    Erkek  18000.0   NaN       2\n",
       "8   İngiltere      NaN  23000.0  12.0       3\n",
       "9     Almanya    Kadın      NaN  45.0       1\n",
       "10  Avusturya    Kadın  15000.0  46.0       2\n",
       "11  İngiltere      NaN  23000.0   NaN       3\n",
       "12    İspanya    Erkek  22000.0  32.0       1\n",
       "13        NaN    Erkek  22000.0  32.0       1\n",
       "14    İspanya    Erkek  22000.0  32.0       1\n",
       "15        NaN    Erkek  22000.0  45.0       1\n",
       "16  İngiltere      NaN  23000.0  12.0       3\n",
       "17    Almanya    Kadın      NaN  45.0       1\n",
       "18        NaN    Kadın  15000.0  46.0       2\n",
       "19  İngiltere      NaN      NaN   NaN       3\n",
       "20    İspanya    Erkek      NaN  32.0       1\n",
       "21        NaN    Erkek  22000.0  32.0       1\n",
       "22    İspanya      NaN  22000.0  32.0       1\n",
       "23        NaN    Erkek  22000.0  45.0       1"
      ]
     },
     "execution_count": 134,
     "metadata": {},
     "output_type": "execute_result"
    }
   ],
   "source": [
    "df"
   ]
  },
  {
   "cell_type": "markdown",
   "metadata": {},
   "source": [
    "* ffill\n",
    "* bfill"
   ]
  },
  {
   "cell_type": "code",
   "execution_count": 135,
   "metadata": {},
   "outputs": [],
   "source": [
    "import numpy as np"
   ]
  },
  {
   "cell_type": "code",
   "execution_count": 136,
   "metadata": {},
   "outputs": [
    {
     "data": {
      "text/plain": [
       "0      0.0\n",
       "1      1.0\n",
       "2      NaN\n",
       "3      NaN\n",
       "4      NaN\n",
       "5      5.0\n",
       "6      6.0\n",
       "7      NaN\n",
       "8      NaN\n",
       "9      NaN\n",
       "10     NaN\n",
       "11    11.0\n",
       "12    12.0\n",
       "13    13.0\n",
       "14    14.0\n",
       "15    15.0\n",
       "16    16.0\n",
       "17    17.0\n",
       "18    18.0\n",
       "19    19.0\n",
       "dtype: float64"
      ]
     },
     "execution_count": 136,
     "metadata": {},
     "output_type": "execute_result"
    }
   ],
   "source": [
    "veri = pd.Series(range(20))\n",
    "veri.loc[2:4] = np.nan\n",
    "veri.loc[7:10] = np.nan\n",
    "veri"
   ]
  },
  {
   "cell_type": "code",
   "execution_count": 137,
   "metadata": {},
   "outputs": [
    {
     "data": {
      "text/plain": [
       "0      0.0\n",
       "1      1.0\n",
       "2      1.0\n",
       "3      1.0\n",
       "4      1.0\n",
       "5      5.0\n",
       "6      6.0\n",
       "7      6.0\n",
       "8      6.0\n",
       "9      6.0\n",
       "10     6.0\n",
       "11    11.0\n",
       "12    12.0\n",
       "13    13.0\n",
       "14    14.0\n",
       "15    15.0\n",
       "16    16.0\n",
       "17    17.0\n",
       "18    18.0\n",
       "19    19.0\n",
       "dtype: float64"
      ]
     },
     "execution_count": 137,
     "metadata": {},
     "output_type": "execute_result"
    }
   ],
   "source": [
    "veri.fillna(method=\"ffill\")"
   ]
  },
  {
   "cell_type": "code",
   "execution_count": 138,
   "metadata": {},
   "outputs": [
    {
     "data": {
      "text/plain": [
       "0      0.0\n",
       "1      1.0\n",
       "2      5.0\n",
       "3      5.0\n",
       "4      5.0\n",
       "5      5.0\n",
       "6      6.0\n",
       "7     11.0\n",
       "8     11.0\n",
       "9     11.0\n",
       "10    11.0\n",
       "11    11.0\n",
       "12    12.0\n",
       "13    13.0\n",
       "14    14.0\n",
       "15    15.0\n",
       "16    16.0\n",
       "17    17.0\n",
       "18    18.0\n",
       "19    19.0\n",
       "dtype: float64"
      ]
     },
     "execution_count": 138,
     "metadata": {},
     "output_type": "execute_result"
    }
   ],
   "source": [
    "veri.fillna(method=\"bfill\")"
   ]
  },
  {
   "cell_type": "code",
   "execution_count": 139,
   "metadata": {},
   "outputs": [
    {
     "data": {
      "text/plain": [
       "0      0.0\n",
       "1      1.0\n",
       "2      2.0\n",
       "3      3.0\n",
       "4      4.0\n",
       "5      5.0\n",
       "6      6.0\n",
       "7      7.0\n",
       "8      8.0\n",
       "9      9.0\n",
       "10    10.0\n",
       "11    11.0\n",
       "12    12.0\n",
       "13    13.0\n",
       "14    14.0\n",
       "15    15.0\n",
       "16    16.0\n",
       "17    17.0\n",
       "18    18.0\n",
       "19    19.0\n",
       "dtype: float64"
      ]
     },
     "execution_count": 139,
     "metadata": {},
     "output_type": "execute_result"
    }
   ],
   "source": [
    "veri.interpolate()"
   ]
  },
  {
   "cell_type": "markdown",
   "metadata": {},
   "source": [
    "### Iterative Imputer"
   ]
  },
  {
   "cell_type": "code",
   "execution_count": 140,
   "metadata": {},
   "outputs": [
    {
     "data": {
      "text/html": [
       "<div>\n",
       "<style scoped>\n",
       "    .dataframe tbody tr th:only-of-type {\n",
       "        vertical-align: middle;\n",
       "    }\n",
       "\n",
       "    .dataframe tbody tr th {\n",
       "        vertical-align: top;\n",
       "    }\n",
       "\n",
       "    .dataframe thead th {\n",
       "        text-align: right;\n",
       "    }\n",
       "</style>\n",
       "<table border=\"1\" class=\"dataframe\">\n",
       "  <thead>\n",
       "    <tr style=\"text-align: right;\">\n",
       "      <th></th>\n",
       "      <th>Ulke</th>\n",
       "      <th>Cinsiyet</th>\n",
       "      <th>Gelir</th>\n",
       "      <th>Yas</th>\n",
       "      <th>MemTip</th>\n",
       "    </tr>\n",
       "  </thead>\n",
       "  <tbody>\n",
       "    <tr>\n",
       "      <th>0</th>\n",
       "      <td>İngiltere</td>\n",
       "      <td>Kadın</td>\n",
       "      <td>20000.0</td>\n",
       "      <td>NaN</td>\n",
       "      <td>1</td>\n",
       "    </tr>\n",
       "    <tr>\n",
       "      <th>1</th>\n",
       "      <td>İngiltere</td>\n",
       "      <td>Erkek</td>\n",
       "      <td>15000.0</td>\n",
       "      <td>32.0</td>\n",
       "      <td>2</td>\n",
       "    </tr>\n",
       "    <tr>\n",
       "      <th>2</th>\n",
       "      <td>İngiltere</td>\n",
       "      <td>Erkek</td>\n",
       "      <td>23000.0</td>\n",
       "      <td>NaN</td>\n",
       "      <td>3</td>\n",
       "    </tr>\n",
       "    <tr>\n",
       "      <th>3</th>\n",
       "      <td>Turkiye</td>\n",
       "      <td>Kadın</td>\n",
       "      <td>20000.0</td>\n",
       "      <td>45.0</td>\n",
       "      <td>1</td>\n",
       "    </tr>\n",
       "    <tr>\n",
       "      <th>4</th>\n",
       "      <td>Fransa</td>\n",
       "      <td>Erkek</td>\n",
       "      <td>15000.0</td>\n",
       "      <td>23.0</td>\n",
       "      <td>2</td>\n",
       "    </tr>\n",
       "    <tr>\n",
       "      <th>5</th>\n",
       "      <td>İngiltere</td>\n",
       "      <td>Erkek</td>\n",
       "      <td>23000.0</td>\n",
       "      <td>12.0</td>\n",
       "      <td>3</td>\n",
       "    </tr>\n",
       "    <tr>\n",
       "      <th>6</th>\n",
       "      <td>Almanya</td>\n",
       "      <td>Kadın</td>\n",
       "      <td>20000.0</td>\n",
       "      <td>45.0</td>\n",
       "      <td>1</td>\n",
       "    </tr>\n",
       "    <tr>\n",
       "      <th>7</th>\n",
       "      <td>Turkiye</td>\n",
       "      <td>Erkek</td>\n",
       "      <td>18000.0</td>\n",
       "      <td>NaN</td>\n",
       "      <td>2</td>\n",
       "    </tr>\n",
       "    <tr>\n",
       "      <th>8</th>\n",
       "      <td>İngiltere</td>\n",
       "      <td>Erkek</td>\n",
       "      <td>23000.0</td>\n",
       "      <td>12.0</td>\n",
       "      <td>3</td>\n",
       "    </tr>\n",
       "    <tr>\n",
       "      <th>9</th>\n",
       "      <td>Almanya</td>\n",
       "      <td>Kadın</td>\n",
       "      <td>NaN</td>\n",
       "      <td>45.0</td>\n",
       "      <td>1</td>\n",
       "    </tr>\n",
       "    <tr>\n",
       "      <th>10</th>\n",
       "      <td>Avusturya</td>\n",
       "      <td>Kadın</td>\n",
       "      <td>15000.0</td>\n",
       "      <td>46.0</td>\n",
       "      <td>2</td>\n",
       "    </tr>\n",
       "    <tr>\n",
       "      <th>11</th>\n",
       "      <td>İngiltere</td>\n",
       "      <td>Erkek</td>\n",
       "      <td>23000.0</td>\n",
       "      <td>NaN</td>\n",
       "      <td>3</td>\n",
       "    </tr>\n",
       "    <tr>\n",
       "      <th>12</th>\n",
       "      <td>İspanya</td>\n",
       "      <td>Erkek</td>\n",
       "      <td>22000.0</td>\n",
       "      <td>32.0</td>\n",
       "      <td>1</td>\n",
       "    </tr>\n",
       "    <tr>\n",
       "      <th>13</th>\n",
       "      <td>İngiltere</td>\n",
       "      <td>Erkek</td>\n",
       "      <td>22000.0</td>\n",
       "      <td>32.0</td>\n",
       "      <td>1</td>\n",
       "    </tr>\n",
       "    <tr>\n",
       "      <th>14</th>\n",
       "      <td>İspanya</td>\n",
       "      <td>Erkek</td>\n",
       "      <td>22000.0</td>\n",
       "      <td>32.0</td>\n",
       "      <td>1</td>\n",
       "    </tr>\n",
       "    <tr>\n",
       "      <th>15</th>\n",
       "      <td>İngiltere</td>\n",
       "      <td>Erkek</td>\n",
       "      <td>22000.0</td>\n",
       "      <td>45.0</td>\n",
       "      <td>1</td>\n",
       "    </tr>\n",
       "    <tr>\n",
       "      <th>16</th>\n",
       "      <td>İngiltere</td>\n",
       "      <td>Erkek</td>\n",
       "      <td>23000.0</td>\n",
       "      <td>12.0</td>\n",
       "      <td>3</td>\n",
       "    </tr>\n",
       "    <tr>\n",
       "      <th>17</th>\n",
       "      <td>Almanya</td>\n",
       "      <td>Kadın</td>\n",
       "      <td>NaN</td>\n",
       "      <td>45.0</td>\n",
       "      <td>1</td>\n",
       "    </tr>\n",
       "    <tr>\n",
       "      <th>18</th>\n",
       "      <td>İngiltere</td>\n",
       "      <td>Kadın</td>\n",
       "      <td>15000.0</td>\n",
       "      <td>46.0</td>\n",
       "      <td>2</td>\n",
       "    </tr>\n",
       "    <tr>\n",
       "      <th>19</th>\n",
       "      <td>İngiltere</td>\n",
       "      <td>Erkek</td>\n",
       "      <td>NaN</td>\n",
       "      <td>NaN</td>\n",
       "      <td>3</td>\n",
       "    </tr>\n",
       "    <tr>\n",
       "      <th>20</th>\n",
       "      <td>İspanya</td>\n",
       "      <td>Erkek</td>\n",
       "      <td>NaN</td>\n",
       "      <td>32.0</td>\n",
       "      <td>1</td>\n",
       "    </tr>\n",
       "    <tr>\n",
       "      <th>21</th>\n",
       "      <td>İngiltere</td>\n",
       "      <td>Erkek</td>\n",
       "      <td>22000.0</td>\n",
       "      <td>32.0</td>\n",
       "      <td>1</td>\n",
       "    </tr>\n",
       "    <tr>\n",
       "      <th>22</th>\n",
       "      <td>İspanya</td>\n",
       "      <td>Erkek</td>\n",
       "      <td>22000.0</td>\n",
       "      <td>32.0</td>\n",
       "      <td>1</td>\n",
       "    </tr>\n",
       "    <tr>\n",
       "      <th>23</th>\n",
       "      <td>İngiltere</td>\n",
       "      <td>Erkek</td>\n",
       "      <td>22000.0</td>\n",
       "      <td>45.0</td>\n",
       "      <td>1</td>\n",
       "    </tr>\n",
       "  </tbody>\n",
       "</table>\n",
       "</div>"
      ],
      "text/plain": [
       "         Ulke Cinsiyet    Gelir   Yas  MemTip\n",
       "0   İngiltere    Kadın  20000.0   NaN       1\n",
       "1   İngiltere    Erkek  15000.0  32.0       2\n",
       "2   İngiltere    Erkek  23000.0   NaN       3\n",
       "3     Turkiye    Kadın  20000.0  45.0       1\n",
       "4      Fransa    Erkek  15000.0  23.0       2\n",
       "5   İngiltere    Erkek  23000.0  12.0       3\n",
       "6     Almanya    Kadın  20000.0  45.0       1\n",
       "7     Turkiye    Erkek  18000.0   NaN       2\n",
       "8   İngiltere    Erkek  23000.0  12.0       3\n",
       "9     Almanya    Kadın      NaN  45.0       1\n",
       "10  Avusturya    Kadın  15000.0  46.0       2\n",
       "11  İngiltere    Erkek  23000.0   NaN       3\n",
       "12    İspanya    Erkek  22000.0  32.0       1\n",
       "13  İngiltere    Erkek  22000.0  32.0       1\n",
       "14    İspanya    Erkek  22000.0  32.0       1\n",
       "15  İngiltere    Erkek  22000.0  45.0       1\n",
       "16  İngiltere    Erkek  23000.0  12.0       3\n",
       "17    Almanya    Kadın      NaN  45.0       1\n",
       "18  İngiltere    Kadın  15000.0  46.0       2\n",
       "19  İngiltere    Erkek      NaN   NaN       3\n",
       "20    İspanya    Erkek      NaN  32.0       1\n",
       "21  İngiltere    Erkek  22000.0  32.0       1\n",
       "22    İspanya    Erkek  22000.0  32.0       1\n",
       "23  İngiltere    Erkek  22000.0  45.0       1"
      ]
     },
     "execution_count": 140,
     "metadata": {},
     "output_type": "execute_result"
    }
   ],
   "source": [
    "from sklearn.impute import SimpleImputer\n",
    "adres = r\"E:\\Projelerim\\IntroductionDL_1408\\Documents\\Preprocessing\\data\\sample.csv\"\n",
    "df4 = pd.read_csv(adres)\n",
    "imputer = SimpleImputer(strategy=\"most_frequent\")\n",
    "imputer.fit(df4[[\"Ulke\"]])\n",
    "df4[\"Ulke\"] = imputer.transform(df4[[\"Ulke\"]])\n",
    "imputer.fit(df4[[\"Cinsiyet\"]])\n",
    "df4[\"Cinsiyet\"] = imputer.transform(df4[[\"Cinsiyet\"]])\n",
    "df4"
   ]
  },
  {
   "cell_type": "code",
   "execution_count": 141,
   "metadata": {},
   "outputs": [
    {
     "data": {
      "text/html": [
       "<div>\n",
       "<style scoped>\n",
       "    .dataframe tbody tr th:only-of-type {\n",
       "        vertical-align: middle;\n",
       "    }\n",
       "\n",
       "    .dataframe tbody tr th {\n",
       "        vertical-align: top;\n",
       "    }\n",
       "\n",
       "    .dataframe thead th {\n",
       "        text-align: right;\n",
       "    }\n",
       "</style>\n",
       "<table border=\"1\" class=\"dataframe\">\n",
       "  <thead>\n",
       "    <tr style=\"text-align: right;\">\n",
       "      <th></th>\n",
       "      <th>Ulke</th>\n",
       "      <th>Cinsiyet</th>\n",
       "      <th>EnUlke</th>\n",
       "      <th>EnCinsiyet</th>\n",
       "    </tr>\n",
       "  </thead>\n",
       "  <tbody>\n",
       "    <tr>\n",
       "      <th>0</th>\n",
       "      <td>İngiltere</td>\n",
       "      <td>Kadın</td>\n",
       "      <td>4</td>\n",
       "      <td>1</td>\n",
       "    </tr>\n",
       "    <tr>\n",
       "      <th>1</th>\n",
       "      <td>İngiltere</td>\n",
       "      <td>Erkek</td>\n",
       "      <td>4</td>\n",
       "      <td>0</td>\n",
       "    </tr>\n",
       "    <tr>\n",
       "      <th>2</th>\n",
       "      <td>İngiltere</td>\n",
       "      <td>Erkek</td>\n",
       "      <td>4</td>\n",
       "      <td>0</td>\n",
       "    </tr>\n",
       "    <tr>\n",
       "      <th>3</th>\n",
       "      <td>Turkiye</td>\n",
       "      <td>Kadın</td>\n",
       "      <td>3</td>\n",
       "      <td>1</td>\n",
       "    </tr>\n",
       "    <tr>\n",
       "      <th>4</th>\n",
       "      <td>Fransa</td>\n",
       "      <td>Erkek</td>\n",
       "      <td>2</td>\n",
       "      <td>0</td>\n",
       "    </tr>\n",
       "    <tr>\n",
       "      <th>5</th>\n",
       "      <td>İngiltere</td>\n",
       "      <td>Erkek</td>\n",
       "      <td>4</td>\n",
       "      <td>0</td>\n",
       "    </tr>\n",
       "    <tr>\n",
       "      <th>6</th>\n",
       "      <td>Almanya</td>\n",
       "      <td>Kadın</td>\n",
       "      <td>0</td>\n",
       "      <td>1</td>\n",
       "    </tr>\n",
       "    <tr>\n",
       "      <th>7</th>\n",
       "      <td>Turkiye</td>\n",
       "      <td>Erkek</td>\n",
       "      <td>3</td>\n",
       "      <td>0</td>\n",
       "    </tr>\n",
       "    <tr>\n",
       "      <th>8</th>\n",
       "      <td>İngiltere</td>\n",
       "      <td>Erkek</td>\n",
       "      <td>4</td>\n",
       "      <td>0</td>\n",
       "    </tr>\n",
       "    <tr>\n",
       "      <th>9</th>\n",
       "      <td>Almanya</td>\n",
       "      <td>Kadın</td>\n",
       "      <td>0</td>\n",
       "      <td>1</td>\n",
       "    </tr>\n",
       "    <tr>\n",
       "      <th>10</th>\n",
       "      <td>Avusturya</td>\n",
       "      <td>Kadın</td>\n",
       "      <td>1</td>\n",
       "      <td>1</td>\n",
       "    </tr>\n",
       "    <tr>\n",
       "      <th>11</th>\n",
       "      <td>İngiltere</td>\n",
       "      <td>Erkek</td>\n",
       "      <td>4</td>\n",
       "      <td>0</td>\n",
       "    </tr>\n",
       "    <tr>\n",
       "      <th>12</th>\n",
       "      <td>İspanya</td>\n",
       "      <td>Erkek</td>\n",
       "      <td>5</td>\n",
       "      <td>0</td>\n",
       "    </tr>\n",
       "    <tr>\n",
       "      <th>13</th>\n",
       "      <td>İngiltere</td>\n",
       "      <td>Erkek</td>\n",
       "      <td>4</td>\n",
       "      <td>0</td>\n",
       "    </tr>\n",
       "    <tr>\n",
       "      <th>14</th>\n",
       "      <td>İspanya</td>\n",
       "      <td>Erkek</td>\n",
       "      <td>5</td>\n",
       "      <td>0</td>\n",
       "    </tr>\n",
       "    <tr>\n",
       "      <th>15</th>\n",
       "      <td>İngiltere</td>\n",
       "      <td>Erkek</td>\n",
       "      <td>4</td>\n",
       "      <td>0</td>\n",
       "    </tr>\n",
       "    <tr>\n",
       "      <th>16</th>\n",
       "      <td>İngiltere</td>\n",
       "      <td>Erkek</td>\n",
       "      <td>4</td>\n",
       "      <td>0</td>\n",
       "    </tr>\n",
       "    <tr>\n",
       "      <th>17</th>\n",
       "      <td>Almanya</td>\n",
       "      <td>Kadın</td>\n",
       "      <td>0</td>\n",
       "      <td>1</td>\n",
       "    </tr>\n",
       "    <tr>\n",
       "      <th>18</th>\n",
       "      <td>İngiltere</td>\n",
       "      <td>Kadın</td>\n",
       "      <td>4</td>\n",
       "      <td>1</td>\n",
       "    </tr>\n",
       "    <tr>\n",
       "      <th>19</th>\n",
       "      <td>İngiltere</td>\n",
       "      <td>Erkek</td>\n",
       "      <td>4</td>\n",
       "      <td>0</td>\n",
       "    </tr>\n",
       "    <tr>\n",
       "      <th>20</th>\n",
       "      <td>İspanya</td>\n",
       "      <td>Erkek</td>\n",
       "      <td>5</td>\n",
       "      <td>0</td>\n",
       "    </tr>\n",
       "    <tr>\n",
       "      <th>21</th>\n",
       "      <td>İngiltere</td>\n",
       "      <td>Erkek</td>\n",
       "      <td>4</td>\n",
       "      <td>0</td>\n",
       "    </tr>\n",
       "    <tr>\n",
       "      <th>22</th>\n",
       "      <td>İspanya</td>\n",
       "      <td>Erkek</td>\n",
       "      <td>5</td>\n",
       "      <td>0</td>\n",
       "    </tr>\n",
       "    <tr>\n",
       "      <th>23</th>\n",
       "      <td>İngiltere</td>\n",
       "      <td>Erkek</td>\n",
       "      <td>4</td>\n",
       "      <td>0</td>\n",
       "    </tr>\n",
       "  </tbody>\n",
       "</table>\n",
       "</div>"
      ],
      "text/plain": [
       "         Ulke Cinsiyet  EnUlke  EnCinsiyet\n",
       "0   İngiltere    Kadın       4           1\n",
       "1   İngiltere    Erkek       4           0\n",
       "2   İngiltere    Erkek       4           0\n",
       "3     Turkiye    Kadın       3           1\n",
       "4      Fransa    Erkek       2           0\n",
       "5   İngiltere    Erkek       4           0\n",
       "6     Almanya    Kadın       0           1\n",
       "7     Turkiye    Erkek       3           0\n",
       "8   İngiltere    Erkek       4           0\n",
       "9     Almanya    Kadın       0           1\n",
       "10  Avusturya    Kadın       1           1\n",
       "11  İngiltere    Erkek       4           0\n",
       "12    İspanya    Erkek       5           0\n",
       "13  İngiltere    Erkek       4           0\n",
       "14    İspanya    Erkek       5           0\n",
       "15  İngiltere    Erkek       4           0\n",
       "16  İngiltere    Erkek       4           0\n",
       "17    Almanya    Kadın       0           1\n",
       "18  İngiltere    Kadın       4           1\n",
       "19  İngiltere    Erkek       4           0\n",
       "20    İspanya    Erkek       5           0\n",
       "21  İngiltere    Erkek       4           0\n",
       "22    İspanya    Erkek       5           0\n",
       "23  İngiltere    Erkek       4           0"
      ]
     },
     "execution_count": 141,
     "metadata": {},
     "output_type": "execute_result"
    }
   ],
   "source": [
    "from sklearn.preprocessing import LabelEncoder\n",
    "le = LabelEncoder()\n",
    "df4[\"EnUlke\"] = le.fit_transform(df4[\"Ulke\"])\n",
    "df4[\"EnCinsiyet\"] = le.fit_transform(df4[\"Cinsiyet\"])\n",
    "df4[[\"Ulke\",\"Cinsiyet\",\"EnUlke\",\"EnCinsiyet\"]]"
   ]
  },
  {
   "cell_type": "code",
   "execution_count": 158,
   "metadata": {},
   "outputs": [],
   "source": [
    "from sklearn.experimental import enable_iterative_imputer\n",
    "from sklearn.impute import IterativeImputer\n",
    "itr_imp = IterativeImputer()\n",
    "itrDf = pd.DataFrame(itr_imp.fit_transform(df4[[\"EnUlke\",\"EnCinsiyet\",\"Gelir\",\"Yas\"]]))\n",
    "df4[\"Yas\"] = itrDf.loc[:,3].astype(int)\n",
    "df4[\"Gelir\"] = itrDf.loc[:,2]"
   ]
  },
  {
   "cell_type": "code",
   "execution_count": 172,
   "metadata": {},
   "outputs": [],
   "source": [
    "df4[\"Gelir\"] =  np.round(df4[\"Gelir\"],2)"
   ]
  },
  {
   "cell_type": "code",
   "execution_count": 170,
   "metadata": {},
   "outputs": [
    {
     "name": "stdout",
     "output_type": "stream",
     "text": [
      "42.7 µs ± 840 ns per loop (mean ± std. dev. of 7 runs, 10000 loops each)\n"
     ]
    }
   ],
   "source": [
    "# %%timeit\n",
    "# round(df[\"Gelir\"],2)"
   ]
  },
  {
   "cell_type": "code",
   "execution_count": 171,
   "metadata": {},
   "outputs": [
    {
     "name": "stdout",
     "output_type": "stream",
     "text": [
      "54.1 µs ± 1.22 µs per loop (mean ± std. dev. of 7 runs, 10000 loops each)\n"
     ]
    }
   ],
   "source": [
    "# %%timeit\n",
    "# np.round(df4[\"Gelir\"],2)"
   ]
  },
  {
   "cell_type": "code",
   "execution_count": 175,
   "metadata": {},
   "outputs": [],
   "source": [
    "df4.drop([\"EnUlke\",\"EnCinsiyet\"],axis=1,inplace=True)"
   ]
  },
  {
   "cell_type": "code",
   "execution_count": 176,
   "metadata": {},
   "outputs": [],
   "source": [
    "df4.to_csv(r\"E:\\Projelerim\\IntroductionDL_1408\\Documents\\Preprocessing\\data\\samplebosyok.csv\",index=False)"
   ]
  },
  {
   "cell_type": "code",
   "execution_count": null,
   "metadata": {},
   "outputs": [],
   "source": []
  }
 ],
 "metadata": {
  "kernelspec": {
   "display_name": "Python 3",
   "language": "python",
   "name": "python3"
  },
  "language_info": {
   "codemirror_mode": {
    "name": "ipython",
    "version": 3
   },
   "file_extension": ".py",
   "mimetype": "text/x-python",
   "name": "python",
   "nbconvert_exporter": "python",
   "pygments_lexer": "ipython3",
   "version": "3.10.7"
  },
  "orig_nbformat": 4
 },
 "nbformat": 4,
 "nbformat_minor": 2
}
