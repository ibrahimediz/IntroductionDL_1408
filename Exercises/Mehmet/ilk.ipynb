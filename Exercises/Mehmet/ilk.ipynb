{
 "cells": [
  {
   "cell_type": "markdown",
   "metadata": {},
   "source": []
  },
  {
   "cell_type": "markdown",
   "metadata": {},
   "source": [
    "# Python GENEL Tanıtım\n",
    "* Variables\n",
    "* Control Structres\n",
    "* Functions\n",
    "* Modul and Packages"
   ]
  },
  {
   "cell_type": "markdown",
   "metadata": {},
   "source": [
    "## Variables"
   ]
  },
  {
   "cell_type": "code",
   "execution_count": null,
   "metadata": {},
   "outputs": [],
   "source": [
    "var1 = 2 # int\n",
    "var2 = 2.2 # float\n",
    "var3 = 2.3+4j # complex\n",
    "###########\n",
    "var4=\"Digital Akademi\" # str\n",
    "var5=[1,2,3,4,] #list\n",
    "var6=(1,2,3,4)\n",
    "###\n",
    "var7 ={\"Adı\":\"Digital\"} #dict\n",
    "var7[\"Adı\"]"
   ]
  },
  {
   "cell_type": "code",
   "execution_count": null,
   "metadata": {},
   "outputs": [],
   "source": []
  }
 ],
 "metadata": {
  "language_info": {
   "name": "python"
  },
  "orig_nbformat": 4
 },
 "nbformat": 4,
 "nbformat_minor": 2
}
