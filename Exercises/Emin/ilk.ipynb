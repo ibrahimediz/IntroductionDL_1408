{
 "cells": [
  {
   "cell_type": "code",
   "execution_count": null,
   "metadata": {
    "vscode": {
     "languageId": "plaintext"
    }
   },
   "outputs": [],
   "source": [
    "var1 =2 # int\n",
    "var2 = 2.2 # float\n",
    "var3 = 2.3 +4 # complex\n",
    "########\n",
    "var4 = \"Digital Akandemi\" # str\n",
    "var5 = [1,2,3,4,] # list\n",
    "var6 = [1,2,3,4,] # tuple\n",
    "#var4[0]"
   ]
  },
  {
   "cell_type": "markdown",
   "metadata": {},
   "source": []
  },
  {
   "cell_type": "markdown",
   "metadata": {},
   "source": [
    "# PYTON GENEL TANITIM\n",
    "* Variables\n",
    "* Controol Structures\n",
    "* Functions\n",
    "* Modul And Packages\n"
   ]
  },
  {
   "cell_type": "markdown",
   "metadata": {},
   "source": [
    "## Variables"
   ]
  },
  {
   "cell_type": "markdown",
   "metadata": {},
   "source": []
  },
  {
   "cell_type": "code",
   "execution_count": null,
   "metadata": {
    "vscode": {
     "languageId": "plaintext"
    }
   },
   "outputs": [],
   "source": []
  }
 ],
 "metadata": {
  "language_info": {
   "name": "python"
  },
  "orig_nbformat": 4
 },
 "nbformat": 4,
 "nbformat_minor": 2
}
